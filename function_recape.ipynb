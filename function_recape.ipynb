{
 "cells": [
  {
   "cell_type": "code",
   "execution_count": 3,
   "source": [
    "my_string = input('Give me an expression: ')\n",
    "result = eval(my_string)\n",
    "print(result)"
   ],
   "outputs": [
    {
     "output_type": "stream",
     "name": "stdout",
     "text": [
      "58\n"
     ]
    }
   ],
   "metadata": {}
  },
  {
   "cell_type": "markdown",
   "source": [
    "# # def function_name(parameter(optional)):\n",
    "# #   return value (optional)"
   ],
   "metadata": {}
  },
  {
   "cell_type": "code",
   "execution_count": 4,
   "source": [
    "def even_odd_check(number): # signature of the function\n",
    "    if number%2 == 0:\n",
    "        print(f'The number {number} is even')\n",
    "    else:\n",
    "    # The number 3 is odd\n",
    "        print(f'The number {number} is odd')"
   ],
   "outputs": [],
   "metadata": {}
  },
  {
   "cell_type": "code",
   "execution_count": 5,
   "source": [
    "even_odd_check(69)"
   ],
   "outputs": [
    {
     "output_type": "stream",
     "name": "stdout",
     "text": [
      "The number 69 is odd\n"
     ]
    }
   ],
   "metadata": {}
  },
  {
   "cell_type": "markdown",
   "source": [
    "# #function call \n",
    "# # function_name(argunments)"
   ],
   "metadata": {}
  },
  {
   "cell_type": "code",
   "execution_count": 7,
   "source": [
    "def thakur_ghar():\n",
    "    prosad = 'Batasa and Nokuldana'\n",
    "    extra = 'Pipre, tulsi pata, bel pata'\n",
    "    return prosad, extra\n",
    "    #return 'valo_prosad' + ' kichu pipre'"
   ],
   "outputs": [],
   "metadata": {}
  },
  {
   "cell_type": "code",
   "execution_count": 10,
   "source": [
    "pujari = thakur_ghar()\n",
    "print(pujari, sep=\"\\n\")\n",
    "print(*pujari, sep=\"\\n\")"
   ],
   "outputs": [
    {
     "output_type": "stream",
     "name": "stdout",
     "text": [
      "('Batasa and Nokuldana', 'Pipre, tulsi pata, bel pata')\n",
      "Batasa and Nokuldana\n",
      "Pipre, tulsi pata, bel pata\n"
     ]
    }
   ],
   "metadata": {}
  },
  {
   "cell_type": "markdown",
   "source": [
    "## First print, prints the tuple but the secoend one prints the tuple after unpacking it"
   ],
   "metadata": {}
  },
  {
   "cell_type": "code",
   "execution_count": 11,
   "source": [
    "prosad, extra = thakur_ghar() # (prosad, extra)\n",
    "\n",
    "print(prosad)\n",
    "print(extra)\n",
    "\n",
    "print('valo_prosad' + 'kichu pipre')"
   ],
   "outputs": [
    {
     "output_type": "stream",
     "name": "stdout",
     "text": [
      "Batasa and Nokuldana\n",
      "Pipre, tulsi pata, bel pata\n",
      "valo_prosadkichu pipre\n"
     ]
    }
   ],
   "metadata": {}
  },
  {
   "cell_type": "code",
   "execution_count": 14,
   "source": [
    "def add(number1, number2):\n",
    "    return number1 + number2\n",
    "print(add(21, 65))"
   ],
   "outputs": [
    {
     "output_type": "stream",
     "name": "stdout",
     "text": [
      "86\n"
     ]
    }
   ],
   "metadata": {}
  },
  {
   "cell_type": "code",
   "execution_count": 15,
   "source": [
    "def add(number1, number2 = 25):\n",
    "    return number1 + number2\n",
    "\n",
    "print(add(5))\n"
   ],
   "outputs": [
    {
     "output_type": "stream",
     "name": "stdout",
     "text": [
      "30\n"
     ]
    }
   ],
   "metadata": {}
  },
  {
   "cell_type": "code",
   "execution_count": 16,
   "source": [
    "def add(number1, number2 = 25):\n",
    "    return number1 + number2\n",
    "\n",
    "print(add(5, 15))"
   ],
   "outputs": [
    {
     "output_type": "stream",
     "name": "stdout",
     "text": [
      "20\n"
     ]
    }
   ],
   "metadata": {}
  },
  {
   "cell_type": "code",
   "execution_count": 18,
   "source": [
    "def add_gen(*numbers): \n",
    "    print(numbers)\n",
    "    print(type(numbers))\n",
    "    print(sum(numbers))\n",
    "    return sum(numbers)\n",
    "## first methode for adding all the passed numbers in the add_gen function\n"
   ],
   "outputs": [],
   "metadata": {}
  },
  {
   "cell_type": "code",
   "execution_count": 20,
   "source": [
    "def add_gen1(*numbers): \n",
    "    sum = 0\n",
    "    for i in numbers:\n",
    "        sum += i\n",
    "    return sum\n",
    "## another way to define the add_gen function"
   ],
   "outputs": [],
   "metadata": {}
  },
  {
   "cell_type": "code",
   "execution_count": 21,
   "source": [
    "print(add_gen(1, 2, 3, 4, 5, 6, 7, 8, 9, 10))\n",
    "print(add_gen1(1, 2, 3, 4, 5, 6, 7, 8, 9, 10))\n"
   ],
   "outputs": [
    {
     "output_type": "stream",
     "name": "stdout",
     "text": [
      "55\n",
      "55\n"
     ]
    }
   ],
   "metadata": {}
  },
  {
   "cell_type": "markdown",
   "source": [
    "## Here we are calling the function which names are listed in the student list and we are calling the function using a for loop. "
   ],
   "metadata": {}
  },
  {
   "cell_type": "code",
   "execution_count": 22,
   "source": [
    "def arijit():\n",
    "    print('Hello dada bolchilam amar ekta prosno achay')\n",
    "\n",
    "def ajim():\n",
    "    print('Dada ami chilam na sunte paini')\n",
    "\n",
    "\n",
    "student = ['arijit', 'ajim']\n",
    "\n",
    "for person in student:\n",
    "    eval(person+'()') \n",
    "## func_name() => 'arijit()' => 'ajim()'"
   ],
   "outputs": [
    {
     "output_type": "stream",
     "name": "stdout",
     "text": [
      "Hello dada bolchilam amar ekta prosno achay\n",
      "Dada ami chilam na sunte paini\n"
     ]
    }
   ],
   "metadata": {}
  },
  {
   "cell_type": "code",
   "execution_count": null,
   "source": [],
   "outputs": [],
   "metadata": {}
  }
 ],
 "metadata": {
  "orig_nbformat": 4,
  "language_info": {
   "name": "python",
   "version": "3.8.10",
   "mimetype": "text/x-python",
   "codemirror_mode": {
    "name": "ipython",
    "version": 3
   },
   "pygments_lexer": "ipython3",
   "nbconvert_exporter": "python",
   "file_extension": ".py"
  },
  "kernelspec": {
   "name": "python3",
   "display_name": "Python 3.8.10 64-bit"
  },
  "interpreter": {
   "hash": "916dbcbb3f70747c44a77c7bcd40155683ae19c65e1c03b4aa3499c5328201f1"
  }
 },
 "nbformat": 4,
 "nbformat_minor": 2
}